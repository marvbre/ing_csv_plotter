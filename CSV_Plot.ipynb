{
 "cells": [
  {
   "cell_type": "markdown",
   "id": "30b29a15",
   "metadata": {},
   "source": [
    "# Load CSV files"
   ]
  },
  {
   "cell_type": "code",
   "execution_count": null,
   "id": "2075ae05",
   "metadata": {},
   "outputs": [],
   "source": [
    "import pandas as pd\n",
    "import yaml\n",
    "import matplotlib.pyplot as plt\n",
    "import os \n",
    "\n",
    "path_csvs = \"\" #insert path to CSV file folder\n",
    "\n",
    "for i, file in enumerate(os.listdir(path_csvs)):\n",
    "    if(i==0):\n",
    "        merged_df = pd.read_csv(path_csvs+file, sep=';', encoding='cp1252', decimal=',', skip_blank_lines=True, on_bad_lines='skip', skiprows=12)\n",
    "    else:\n",
    "        df2 = pd.read_csv(path_csvs+file, sep=';', encoding='cp1252', decimal=',', skip_blank_lines=True, on_bad_lines='skip', skiprows=12)\n",
    "        merged_df = pd.concat([merged_df, df2], ignore_index=True)\n",
    "    print(i, file)"
   ]
  },
  {
   "cell_type": "code",
   "execution_count": null,
   "id": "2de91172",
   "metadata": {},
   "outputs": [],
   "source": [
    "df = merged_df.copy()\n",
    "df['Buchung'] = pd.to_datetime(df['Buchung'], dayfirst=True)\n",
    "df['Betrag'] = df['Betrag'].str.replace('.', '').str.replace(',', '.').astype(float)\n",
    "df"
   ]
  },
  {
   "cell_type": "markdown",
   "id": "ce473923",
   "metadata": {},
   "source": [
    "## Categorization of Cashflows"
   ]
  },
  {
   "cell_type": "code",
   "execution_count": null,
   "id": "53d6ce05",
   "metadata": {},
   "outputs": [],
   "source": [
    "# Step 3: Load categories from YAML\n",
    "with open('categories.yaml', 'r', encoding='utf-8') as file:\n",
    "    categories = yaml.safe_load(file)\n",
    "\n",
    "def categorize(row):\n",
    "    text = (str(row['Buchung']) + ' ' + str(row['Verwendungszweck']) + str(row['Auftraggeber/Empfänger'])).lower() \n",
    "    for category, keywords in categories.items():\n",
    "        if any(keyword.lower() in text for keyword in keywords):\n",
    "            return category\n",
    "    return 'Sonstiges'\n",
    "\n",
    "df['Kategorie'] = df.apply(categorize, axis=1)"
   ]
  },
  {
   "cell_type": "markdown",
   "id": "93f03840",
   "metadata": {},
   "source": [
    "## Monthly Balances"
   ]
  },
  {
   "cell_type": "code",
   "execution_count": null,
   "id": "5d48b9bf",
   "metadata": {},
   "outputs": [],
   "source": [
    "df_filtered = df[df['Buchung'].dt.year != None]\n",
    "df_filtered['Monat'] = df_filtered['Buchung'].dt.to_period('M')\n",
    "\n",
    "# --- Create groups ---\n",
    "incomes = df_filtered[(df_filtered['Betrag'] > 0) & (df_filtered['Kategorie'] != 'Investments')].groupby('Monat')['Betrag'].sum()\n",
    "expenses = df_filtered[(df_filtered['Betrag'] < 0) & (df_filtered['Kategorie'] != 'Investments')].groupby('Monat')['Betrag'].sum()\n",
    "investments = df_filtered[(df_filtered['Kategorie'] == 'Investments')].groupby('Monat')['Betrag'].sum()\n",
    "\n",
    "all_months = pd.period_range(df_filtered['Monat'].min(), df_filtered['Monat'].max(), freq='M')\n",
    "\n",
    "expenses = expenses.reindex(all_months, fill_value=0)\n",
    "incomes = incomes.reindex(all_months, fill_value=0)\n",
    "investments = investments.reindex(all_months, fill_value=0) * -1  # Flip investments for plotting (optional)\n"
   ]
  },
  {
   "cell_type": "code",
   "execution_count": null,
   "id": "6149e01a",
   "metadata": {},
   "outputs": [],
   "source": [
    "fig, ax = plt.subplots(figsize=(14, 7))\n",
    "x = range(len(all_months))  # Numeric x-axis\n",
    "bar_width = 0.25  # Width of each bar\n",
    "\n",
    "# Plot each group with a small offset\n",
    "ax.bar([i - bar_width for i in x], expenses, width=bar_width, color='red', label='Expenses')\n",
    "ax.bar(x, incomes, width=bar_width, color='green', label='Income')\n",
    "ax.bar([i + bar_width for i in x], investments, width=bar_width, color='gold', label='Investments')\n",
    "\n",
    "# Formatting\n",
    "ax.set_title('Income, Expenses, and Investments per Month')\n",
    "ax.set_ylabel('Amount (€)')\n",
    "ax.set_xlabel('Month')\n",
    "ax.axhline(0, color='black', linewidth=0.8)\n",
    "ax.set_xticks(x)\n",
    "ax.set_xticklabels([str(m) for m in all_months], rotation=45)\n",
    "ax.legend()\n",
    "plt.tight_layout()\n",
    "plt.show()"
   ]
  },
  {
   "cell_type": "markdown",
   "id": "7d8c3da0",
   "metadata": {},
   "source": [
    "## Highest Expense Categories"
   ]
  },
  {
   "cell_type": "code",
   "execution_count": null,
   "id": "3fd33ac4",
   "metadata": {},
   "outputs": [],
   "source": [
    "# Step 1: Filter out only the expenses (assuming negative amounts are expenses)\n",
    "dfe = df[df['Betrag'] < 0]\n",
    "dfee = dfe[dfe['Kategorie'] != 'Investments']\n",
    "dfeee = dfee[dfee['Kategorie'] != 'Salary']\n",
    "df_expenses = dfeee.copy()  # Exclude investments\n",
    "\n",
    "# Step 2: Group by 'Kategorie' (category) and sum the 'Betrag' (amount)\n",
    "category_sums = df_expenses.groupby('Kategorie')['Betrag'].sum() * -1\n",
    "\n",
    "# Explode settings\n",
    "explode = [0.05] * len(category_sums)  # Small explosion for all slices\n",
    "# (You can set individual slices bigger if you want — e.g., 0.2 for one category.)"
   ]
  },
  {
   "cell_type": "code",
   "execution_count": null,
   "id": "564c3f57",
   "metadata": {},
   "outputs": [],
   "source": [
    "# Colors\n",
    "colors = plt.cm.tab20c.colors  # 20 nice colors\n",
    "\n",
    "# Plot\n",
    "fig, ax = plt.subplots(figsize=(10, 8))\n",
    "wedges, texts, autotexts = ax.pie(\n",
    "    category_sums,\n",
    "    labels=None, #category_sums.index,\n",
    "    autopct='%1.1f%%',\n",
    "    startangle=90,\n",
    "    colors=colors,\n",
    "    explode=explode,\n",
    "    labeldistance=1.2,  # Move labels further out\n",
    "    pctdistance=1.08  # Control where % numbers are (closer to center)\n",
    ")\n",
    "ax.legend(\n",
    "    wedges,\n",
    "    category_sums.index,\n",
    "    title=\"Categories\",\n",
    "    loc=\"center left\",\n",
    "    bbox_to_anchor=(1, 0, 0.5, 1),\n",
    "    labelspacing=1.1\n",
    ")\n",
    "\n",
    "ax.set_title('Expenses by Category (Exploded Pie)')\n",
    "plt.tight_layout()\n",
    "plt.show()"
   ]
  },
  {
   "cell_type": "markdown",
   "id": "be13d7d6",
   "metadata": {},
   "source": [
    "## Income Sources"
   ]
  },
  {
   "cell_type": "code",
   "execution_count": null,
   "id": "3dafa9ab",
   "metadata": {},
   "outputs": [],
   "source": [
    "# Step 1: Filter out only the expenses (assuming negative amounts are expenses)\n",
    "df_expenses = df[df['Betrag'] > 0]\n",
    "\n",
    "# Step 2: Group by 'Kategorie' (category) and sum the 'Betrag' (amount)\n",
    "category_sums = df_expenses.groupby('Kategorie')['Betrag'].sum()\n",
    "\n",
    "explode = [0.05] * len(category_sums)  # Small explosion for all slices\n",
    "colors = plt.cm.tab20c.colors  # 20 colors from tab20c\n",
    "\n",
    "# Plot\n",
    "fig, ax = plt.subplots(figsize=(10, 8))\n",
    "wedges, texts, autotexts = ax.pie(\n",
    "    category_sums,\n",
    "    labels=None, #category_sums.index,\n",
    "    autopct='%1.1f%%',\n",
    "    startangle=90,\n",
    "    colors=colors,\n",
    "    explode=explode,\n",
    "    labeldistance=1.2,  # Move labels further out\n",
    "    pctdistance=1.08  # Control where % numbers are (closer to center)\n",
    ")\n",
    "ax.legend(\n",
    "    wedges,\n",
    "    category_sums.index,\n",
    "    title=\"Categories\",\n",
    "    loc=\"center left\",\n",
    "    bbox_to_anchor=(1, 0, 0.5, 1),\n",
    "    labelspacing=1.1\n",
    ")\n",
    "\n",
    "ax.set_title('Expenses by Category (Exploded Pie)')\n",
    "plt.tight_layout()\n",
    "plt.show()"
   ]
  },
  {
   "cell_type": "code",
   "execution_count": null,
   "id": "077afc36",
   "metadata": {},
   "outputs": [],
   "source": [
    "pd.set_option('display.max_rows', 500)\n",
    "dfe = df[df['Betrag'] > 0]\n",
    "dfe"
   ]
  }
 ],
 "metadata": {
  "kernelspec": {
   "display_name": "base",
   "language": "python",
   "name": "python3"
  },
  "language_info": {
   "codemirror_mode": {
    "name": "ipython",
    "version": 3
   },
   "file_extension": ".py",
   "mimetype": "text/x-python",
   "name": "python",
   "nbconvert_exporter": "python",
   "pygments_lexer": "ipython3",
   "version": "3.12.9"
  }
 },
 "nbformat": 4,
 "nbformat_minor": 5
}
